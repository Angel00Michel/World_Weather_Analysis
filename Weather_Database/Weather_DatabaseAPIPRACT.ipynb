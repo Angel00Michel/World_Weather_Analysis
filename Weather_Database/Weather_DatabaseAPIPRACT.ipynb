{
 "cells": [
  {
   "cell_type": "markdown",
   "metadata": {},
   "source": [
    "# Deliverable 1. Retrieve Weather Data.\n",
    "---\n",
    "1. Create a folder called `Weather_Database` to save all the files related with this deliverable.\n",
    "\n",
    "2. Save the `Weather_Database_starter_code.ipynb` starter code to the `Weather_Database` folder and rename it as `Weather_Database.ipynb`.\n",
    "\n",
    "3. Use the `np.random.uniform` function to generate a new set of 2,000 random latitudes and 2,000 longitudes.\n",
    "\n",
    "4. Use the `citipy` module to get the nearest city for each latitude and longitude combination.\n",
    "\n",
    "5. Import your OpenWeatherMap's API key and assemble the API call URL as a string variable. Recall to edit the `config.py` file to add your API key; also, it's critical to avoid publishing your API key on your GitHub repository.\n",
    "\n",
    "6. Retrieve the following information from the API call:\n",
    "\n",
    "    * Latitude and longitude\n",
    "\n",
    "    * Maximum temperature\n",
    "\n",
    "    * Percent humidity\n",
    "\n",
    "    * Percent cloudiness\n",
    "\n",
    "    * Wind speed\n",
    "\n",
    "    * Weather description (for example, clouds, fog, light rain, clear sky)\n",
    "\n",
    "7. Add the weather data to a new DataFrame.\n",
    "\n",
    "8. Export the DataFrame as a CSV file, and save it as `WeatherPy_Database.csv` in the `Weather_Database` folder.\n",
    "---"
   ]
  },
  {
   "cell_type": "code",
   "execution_count": 1,
   "metadata": {},
   "outputs": [],
   "source": [
    "# Import initial libraries\n",
    "import numpy as np\n",
    "import pandas as pd\n",
    "from citipy import citipy"
   ]
  },
  {
   "cell_type": "markdown",
   "metadata": {},
   "source": [
    "## Use the `np.random.uniform` function to generate a new set of 2,000 random latitudes and 2,000 longitudes."
   ]
  },
  {
   "cell_type": "code",
   "execution_count": 2,
   "metadata": {},
   "outputs": [
    {
     "data": {
      "text/plain": [
       "<zip at 0x7f93b61769c0>"
      ]
     },
     "execution_count": 2,
     "metadata": {},
     "output_type": "execute_result"
    }
   ],
   "source": [
    "# Create a set of random latitude and longitude combinations\n",
    "lats = np.random.uniform(low = -90.000, high = 90.000, size = 100)\n",
    "lngs = np.random.uniform(low = -180.000, high = 180.000, size = 100)\n",
    "\n",
    "# Use the zip function to create an iterator of tuples containing the latitude and longitude combinations\n",
    "lat_lngs = zip(lats, lngs)\n",
    "lat_lngs"
   ]
  },
  {
   "cell_type": "code",
   "execution_count": 3,
   "metadata": {},
   "outputs": [],
   "source": [
    "# Add the latitudes and longitudes to a list\n",
    "coordinates = list(lat_lngs)"
   ]
  },
  {
   "cell_type": "code",
   "execution_count": 4,
   "metadata": {},
   "outputs": [
    {
     "name": "stdout",
     "output_type": "stream",
     "text": [
      "26.20141369323396 74.5711237322895\n",
      "52.65057325875247 -121.59460483224167\n",
      "-59.42822706260472 -55.211305614669\n",
      "78.00995724897817 167.47647355350648\n",
      "-89.31252266180647 -19.25388111872445\n",
      "32.20740400039598 55.02314174386268\n",
      "-14.986647650464874 52.81868335023668\n",
      "32.24936179946117 -8.006457603741978\n",
      "-69.4066863183087 -123.10310630261168\n",
      "22.88104911301805 51.60238685902246\n",
      "-26.009939639436126 5.354010310876788\n",
      "13.823442488511219 -48.97632141000233\n",
      "-14.330249678822597 21.137400020735186\n",
      "-56.103184869677 -26.418403213782767\n",
      "55.23408418225162 115.11293324449895\n",
      "-13.987274983393462 -108.6730018140013\n",
      "-76.19698635867401 -161.76501298381675\n",
      "28.457483781680395 -30.82002840460609\n",
      "10.393712759169503 -34.328472911774156\n",
      "-2.581710202025249 -43.598858404853274\n",
      "79.1720999290103 55.00656624862967\n",
      "-29.68275032331381 45.02374869106882\n",
      "40.1824824782164 -143.028675361321\n",
      "-53.20863147610302 116.92163332978566\n",
      "-84.84442831416683 -166.7958915621724\n",
      "-17.666020833377942 -13.783865787720401\n",
      "77.9026083084311 152.00455725327208\n",
      "-80.23308030703626 158.21385786559017\n",
      "-49.83105780401253 -31.861685540305103\n",
      "51.31424314517608 56.99248440523627\n",
      "-58.27243782174408 51.08295415534042\n",
      "-47.40625009852051 -50.21929989602663\n",
      "15.531972430314156 -121.42559356928703\n",
      "71.05477132128118 -9.858789492510681\n",
      "18.448809662711795 -145.28048574071892\n",
      "17.17342649808461 22.85516062510439\n",
      "-64.35761558100792 -162.74196657647673\n",
      "34.01107964622652 -158.98373185957402\n",
      "-26.870052735108253 -74.41640149312525\n",
      "-22.499015619967096 -55.090433411339376\n",
      "-14.572037629269104 -41.89368633115407\n",
      "78.71188986968829 -170.5766587774689\n",
      "-82.05329481932509 -142.13500046184387\n",
      "72.29127857251547 -93.40678013741488\n",
      "85.12153696914874 129.98112059346334\n",
      "67.25548460361512 -143.6759606987899\n",
      "-34.964652658961754 132.48656598414908\n",
      "-78.02127583988366 84.55599195076019\n",
      "31.801957177270964 -128.19370949466455\n",
      "-48.602343649487004 43.59912901470358\n",
      "19.65655528333069 -17.775011317841916\n",
      "-42.05136229103086 168.05459833885135\n",
      "12.061964166855319 -64.41166370566881\n",
      "-54.22763861578169 -81.5680339638752\n",
      "61.83789613923204 -178.58227641095027\n",
      "89.38191702084134 -114.1315647826176\n",
      "-22.322162744463384 -16.22673323186646\n",
      "-0.8590453332347039 -173.50365102236094\n",
      "-35.95453352959795 -116.03455647425301\n",
      "72.47334364726694 -81.14666768708425\n",
      "-13.733843663429397 -63.241431119284314\n",
      "41.465928136959434 -173.01604050498125\n",
      "82.37030435696789 -14.009670597357456\n",
      "1.8350429042905176 -171.59784301605762\n",
      "77.9990189457464 -20.572284135718462\n",
      "-51.31407295908073 -56.303521760789124\n",
      "-6.041098596681124 -116.817539827149\n",
      "32.22646905208725 -139.7680574037276\n",
      "34.612187271450324 -120.06226260530505\n",
      "-52.16910062800679 16.92441756519807\n",
      "-62.638861124851985 -57.645749647967804\n",
      "-64.8239522887993 144.22226841589952\n",
      "-14.248210665597156 -89.70111990153886\n",
      "-74.84910469991185 53.922744285702095\n",
      "-41.0381263068838 -97.15345367157104\n",
      "83.55056826765022 70.96121036996342\n",
      "41.250404395239116 23.814264617434702\n",
      "-85.469962304917 72.80579044998134\n",
      "18.4155081803155 103.81458714284861\n",
      "-70.60294989642973 -89.94939642340185\n",
      "79.98967534797481 97.84106894996211\n",
      "-86.42550867135938 104.40559645656373\n",
      "-82.03793306644242 132.3535550427652\n",
      "21.814123451739235 140.06983548957817\n",
      "-1.1857501924456955 -35.14493602381421\n",
      "70.83002145554926 -137.42701839812975\n",
      "29.132328579773016 -143.70656794073605\n",
      "55.085281937277585 -94.48595248982485\n",
      "-9.017446999153748 50.292405602391966\n",
      "87.72539264853953 14.718124267022318\n",
      "-66.99934524623345 1.3691504559644159\n",
      "-6.873327384134058 19.314580282141776\n",
      "45.42817819644105 -129.03564909470455\n",
      "78.85140967403612 92.42550942596142\n",
      "47.520030120125796 13.216007423963731\n",
      "69.06878041679721 118.52286681242708\n",
      "70.5578403127873 108.60814693040311\n",
      "-80.77402226217843 116.76217182586163\n",
      "-20.034988018339376 95.33883589137082\n",
      "68.0293549425252 57.92352941407606\n"
     ]
    }
   ],
   "source": [
    "# Using print() function to display lat & lngs coordinates.\n",
    "for coordinate in coordinates:\n",
    "    print(coordinate[0], coordinate[1])"
   ]
  },
  {
   "cell_type": "markdown",
   "metadata": {},
   "source": [
    "## Use the `citipy` module to get the nearest city for each latitude and longitude combination."
   ]
  },
  {
   "cell_type": "code",
   "execution_count": 5,
   "metadata": {},
   "outputs": [
    {
     "data": {
      "text/plain": [
       "84"
      ]
     },
     "execution_count": 5,
     "metadata": {},
     "output_type": "execute_result"
    }
   ],
   "source": [
    "# Create an empty list for holding the cities\n",
    "cities = []\n",
    "\n",
    "# Use a for loop to identify nearest city for each latitude and longitude combination using the citipy module\n",
    "for coordinate in coordinates:\n",
    "    # Use the citipy module to identify the nearest city to the current coordinate\n",
    "    city = citipy.nearest_city(coordinate[0], coordinate[1]).city_name\n",
    "    \n",
    "    # If the city is unique, then add it to a our cities list\n",
    "    if city not in cities:\n",
    "        cities.append(city)\n",
    "\n",
    "# Print the city count to confirm sufficient count\n",
    "len(cities)"
   ]
  },
  {
   "cell_type": "markdown",
   "metadata": {},
   "source": [
    "## Import your OpenWeatherMap's API key and assemble the API call URL as a string variable. Recall to edit the `config.py` file to add your API key."
   ]
  },
  {
   "cell_type": "code",
   "execution_count": 6,
   "metadata": {},
   "outputs": [],
   "source": [
    "# Import the requests library\n",
    "import requests\n",
    "\n",
    "# Import the time library\n",
    "import time\n",
    "\n",
    "# Import the datetime module from the datetime library\n",
    "from datetime import datetime\n",
    "\n",
    "# Import the OpenWeatherMap's API key\n",
    "from config1 import challenge_api_key"
   ]
  },
  {
   "cell_type": "code",
   "execution_count": 14,
   "metadata": {},
   "outputs": [
    {
     "name": "stdout",
     "output_type": "stream",
     "text": [
      "https://api.openweathermap.org/data/2.5/weather?lat={lat}&lon={lon}imperial&appid=$2890a817be547da2db32621165673172\n"
     ]
    }
   ],
   "source": [
    "# Assemble the OpenWeatherMap's API call\n",
    "url = \"https://api.openweathermap.org/data/2.5/weather?lat={lat}&lon={lon}imperial&appid=$\" + challenge_api_key\n",
    "print(url)"
   ]
  },
  {
   "cell_type": "markdown",
   "metadata": {},
   "source": [
    "## Retrieve the following information from the API call.\n",
    "\n",
    "- The latitude and longitude\n",
    "- The Max temperature\n",
    "- The % humidity\n",
    "- The % cloudiness\n",
    "- The Wind speed\n",
    "- The Weather description, i.e., cloudy, fog, light rain, clear sky, etc. "
   ]
  },
  {
   "cell_type": "code",
   "execution_count": 15,
   "metadata": {},
   "outputs": [
    {
     "data": {
      "text/plain": [
       "401"
      ]
     },
     "execution_count": 15,
     "metadata": {},
     "output_type": "execute_result"
    }
   ],
   "source": [
    "city_url = url + \"&q=\" + city.replace(\" \",\"+\")\n",
    "city_weather = requests.get(city_url)\n",
    "city_weather.status_code"
   ]
  },
  {
   "cell_type": "code",
   "execution_count": 8,
   "metadata": {},
   "outputs": [
    {
     "name": "stdout",
     "output_type": "stream",
     "text": [
      "Beginning Data Retrieval     \n",
      "-----------------------------\n",
      "Processing Record 1 of Set 1 | nasirabad\n",
      "City not found. Skipping...\n",
      "Processing Record 2 of Set 1 | williams lake\n",
      "City not found. Skipping...\n",
      "Processing Record 3 of Set 1 | ushuaia\n",
      "City not found. Skipping...\n",
      "Processing Record 4 of Set 1 | pevek\n",
      "City not found. Skipping...\n",
      "Processing Record 5 of Set 1 | bafq\n",
      "City not found. Skipping...\n",
      "Processing Record 6 of Set 1 | antalaha\n",
      "City not found. Skipping...\n",
      "Processing Record 7 of Set 1 | marrakesh\n",
      "City not found. Skipping...\n",
      "Processing Record 8 of Set 1 | rikitea\n",
      "City not found. Skipping...\n",
      "Processing Record 9 of Set 1 | abu samrah\n",
      "City not found. Skipping...\n",
      "Processing Record 10 of Set 1 | walvis bay\n",
      "City not found. Skipping...\n",
      "Processing Record 11 of Set 1 | sinnamary\n",
      "City not found. Skipping...\n",
      "Processing Record 12 of Set 1 | kalabo\n",
      "City not found. Skipping...\n",
      "Processing Record 13 of Set 1 | chuy\n",
      "City not found. Skipping...\n",
      "Processing Record 14 of Set 1 | taksimo\n",
      "City not found. Skipping...\n",
      "Processing Record 15 of Set 1 | puerto ayora\n",
      "City not found. Skipping...\n",
      "Processing Record 16 of Set 1 | mataura\n",
      "City not found. Skipping...\n",
      "Processing Record 17 of Set 1 | ribeira grande\n",
      "City not found. Skipping...\n",
      "Processing Record 18 of Set 1 | sao filipe\n",
      "City not found. Skipping...\n",
      "Processing Record 19 of Set 1 | humberto de campos\n",
      "City not found. Skipping...\n",
      "Processing Record 20 of Set 1 | belushya guba\n",
      "City not found. Skipping...\n",
      "Processing Record 21 of Set 1 | tsihombe\n",
      "City not found. Skipping...\n",
      "Processing Record 22 of Set 1 | sitka\n",
      "City not found. Skipping...\n",
      "Processing Record 23 of Set 1 | albany\n",
      "City not found. Skipping...\n",
      "Processing Record 24 of Set 1 | jamestown\n",
      "City not found. Skipping...\n",
      "Processing Record 25 of Set 1 | chokurdakh\n",
      "City not found. Skipping...\n",
      "Processing Record 26 of Set 1 | bluff\n",
      "City not found. Skipping...\n",
      "Processing Record 27 of Set 1 | cidreira\n",
      "City not found. Skipping...\n",
      "Processing Record 28 of Set 1 | dubenskiy\n",
      "City not found. Skipping...\n",
      "Processing Record 29 of Set 1 | mar del plata\n",
      "City not found. Skipping...\n",
      "Processing Record 30 of Set 1 | constitucion\n",
      "City not found. Skipping...\n",
      "Processing Record 31 of Set 1 | hofn\n",
      "City not found. Skipping...\n",
      "Processing Record 32 of Set 1 | hilo\n",
      "City not found. Skipping...\n",
      "Processing Record 33 of Set 1 | biltine\n",
      "City not found. Skipping...\n",
      "Processing Record 34 of Set 1 | kapaa\n",
      "City not found. Skipping...\n",
      "Processing Record 35 of Set 1 | vallenar\n",
      "City not found. Skipping...\n",
      "Processing Record 36 of Set 1 | caarapo\n",
      "City not found. Skipping...\n",
      "Processing Record 37 of Set 1 | santana\n",
      "City not found. Skipping...\n",
      "Processing Record 38 of Set 1 | lavrentiya\n",
      "City not found. Skipping...\n",
      "Processing Record 39 of Set 1 | thompson\n",
      "City not found. Skipping...\n",
      "Processing Record 40 of Set 1 | tiksi\n",
      "City not found. Skipping...\n",
      "Processing Record 41 of Set 1 | fairbanks\n",
      "City not found. Skipping...\n",
      "Processing Record 42 of Set 1 | flinders\n",
      "City not found. Skipping...\n",
      "Processing Record 43 of Set 1 | busselton\n",
      "City not found. Skipping...\n",
      "Processing Record 44 of Set 1 | pacific grove\n",
      "City not found. Skipping...\n",
      "Processing Record 45 of Set 1 | umzimvubu\n",
      "City not found. Skipping...\n",
      "Processing Record 46 of Set 1 | nouadhibou\n",
      "City not found. Skipping...\n",
      "Processing Record 47 of Set 1 | wanaka\n",
      "City not found. Skipping...\n",
      "Processing Record 48 of Set 1 | la asuncion\n",
      "City not found. Skipping...\n",
      "Processing Record 49 of Set 1 | punta arenas\n",
      "City not found. Skipping...\n",
      "Processing Record 50 of Set 1 | egvekinot\n",
      "City not found. Skipping...\n",
      "Processing Record 1 of Set 2 | yellowknife\n",
      "City not found. Skipping...\n",
      "Processing Record 2 of Set 2 | saleaula\n",
      "City not found. Skipping...\n",
      "Processing Record 3 of Set 2 | clyde river\n",
      "City not found. Skipping...\n",
      "Processing Record 4 of Set 2 | san ramon\n",
      "City not found. Skipping...\n",
      "Processing Record 5 of Set 2 | bethel\n",
      "City not found. Skipping...\n",
      "Processing Record 6 of Set 2 | illoqqortoormiut\n",
      "City not found. Skipping...\n",
      "Processing Record 7 of Set 2 | rawson\n",
      "City not found. Skipping...\n",
      "Processing Record 8 of Set 2 | atuona\n",
      "City not found. Skipping...\n",
      "Processing Record 9 of Set 2 | fortuna\n",
      "City not found. Skipping...\n",
      "Processing Record 10 of Set 2 | isla vista\n",
      "City not found. Skipping...\n",
      "Processing Record 11 of Set 2 | hermanus\n",
      "City not found. Skipping...\n",
      "Processing Record 12 of Set 2 | hobart\n",
      "City not found. Skipping...\n",
      "Processing Record 13 of Set 2 | chicama\n",
      "City not found. Skipping...\n",
      "Processing Record 14 of Set 2 | east london\n",
      "City not found. Skipping...\n",
      "Processing Record 15 of Set 2 | ancud\n",
      "City not found. Skipping...\n",
      "Processing Record 16 of Set 2 | dikson\n",
      "City not found. Skipping...\n",
      "Processing Record 17 of Set 2 | mikropolis\n",
      "City not found. Skipping...\n",
      "Processing Record 18 of Set 2 | taolanaro\n",
      "City not found. Skipping...\n",
      "Processing Record 19 of Set 2 | pakxan\n",
      "City not found. Skipping...\n",
      "Processing Record 20 of Set 2 | khatanga\n",
      "City not found. Skipping...\n",
      "Processing Record 21 of Set 2 | new norfolk\n",
      "City not found. Skipping...\n",
      "Processing Record 22 of Set 2 | naze\n",
      "City not found. Skipping...\n",
      "Processing Record 23 of Set 2 | touros\n",
      "City not found. Skipping...\n",
      "Processing Record 24 of Set 2 | aklavik\n",
      "City not found. Skipping...\n",
      "Processing Record 25 of Set 2 | ambilobe\n",
      "City not found. Skipping...\n",
      "Processing Record 26 of Set 2 | longyearbyen\n",
      "City not found. Skipping...\n",
      "Processing Record 27 of Set 2 | tshikapa\n",
      "City not found. Skipping...\n",
      "Processing Record 28 of Set 2 | ucluelet\n",
      "City not found. Skipping...\n",
      "Processing Record 29 of Set 2 | talnakh\n",
      "City not found. Skipping...\n",
      "Processing Record 30 of Set 2 | bischofshofen\n",
      "City not found. Skipping...\n",
      "Processing Record 31 of Set 2 | saskylakh\n",
      "City not found. Skipping...\n",
      "Processing Record 32 of Set 2 | aykhal\n",
      "City not found. Skipping...\n",
      "Processing Record 33 of Set 2 | palabuhanratu\n",
      "City not found. Skipping...\n",
      "Processing Record 34 of Set 2 | usinsk\n",
      "City not found. Skipping...\n",
      "-----------------------------\n",
      "Data Retrieval Complete      \n",
      "-----------------------------\n"
     ]
    }
   ],
   "source": [
    "# Create an empty list to hold weather data for each city\n",
    "rando_city_datapull = []\n",
    "\n",
    "# Print a message to indicate that the data retrieval starts\n",
    "print(\"Beginning Data Retrieval     \")\n",
    "print(\"-----------------------------\")\n",
    "\n",
    "# Create counters and set them to 1\n",
    "record_count = 1\n",
    "set_count = 1\n",
    "\n",
    "# Loop through all the cities in our list to fetch weather data for each city\n",
    "for i, city in enumerate(cities):\n",
    "        \n",
    "    # Group cities in sets of 50 for logging purposes\n",
    "    if (i % 50 == 0 and i >= 50):\n",
    "        set_count += 1\n",
    "        record_count = 1\n",
    "        time.sleep(60)\n",
    "\n",
    "    # Create an endpoint URL for each city\n",
    "    city_url = url + \"&q=\" + city.replace(\" \",\"+\")\n",
    "    \n",
    "    # Log the url, record, and set numbers\n",
    "    print(f\"Processing Record {record_count} of Set {set_count} | {city}\")\n",
    "\n",
    "    # Add 1 to the record count\n",
    "    record_count += 1\n",
    "\n",
    "    # Run an API request for each of the cities\n",
    "    try:\n",
    "        city_weather = requests.get(city_url).json()\n",
    "        # Parse out the latitude, longitude, max temp, humidity, cloudiness, wind, country, and weather description\n",
    "        city_lat = city_weather[\"coord\"][\"lat\"]\n",
    "        city_lng = city_weather[\"coord\"][\"lon\"]\n",
    "        city_max_temp = city_weather[\"main\"][\"temp_max\"]\n",
    "        city_humidity = city_weather[\"main\"][\"humidity\"]\n",
    "        city_clouds = city_weather[\"clouds\"][\"all\"]\n",
    "        city_wind = city_weather[\"wind\"][\"speed\"]\n",
    "        city_country = city_weather[\"sys\"][\"country\"]\n",
    "        city_detail = city_weather[\"weather\"][\"main\"]\n",
    "        \n",
    "        # Append the city information into the city_data list\n",
    "        city_data.append({\"City\": city.title(),\n",
    "                          \"Lat\": city_lat,\n",
    "                          \"Lng\": city_lng,\n",
    "                          \"Max Temp\": city_max_temp,\n",
    "                          \"Humidity\": city_humidity,\n",
    "                          \"Cloudiness\": city_clouds,\n",
    "                          \"Wind Speed\": city_wind,\n",
    "                          \"Country\": city_country})\n",
    "                          \"Current Description\": city_detail})\n",
    "    \n",
    "    # If an error is experienced, skip the city\n",
    "    except:\n",
    "        print(\"City not found. Skipping...\")\n",
    "        pass\n",
    "\n",
    "# Indicate that the data retrieval is complete \n",
    "print(\"-----------------------------\")\n",
    "print(\"Data Retrieval Complete      \")\n",
    "print(\"-----------------------------\")"
   ]
  },
  {
   "cell_type": "code",
   "execution_count": 9,
   "metadata": {},
   "outputs": [
    {
     "data": {
      "text/plain": [
       "0"
      ]
     },
     "execution_count": 9,
     "metadata": {},
     "output_type": "execute_result"
    }
   ],
   "source": [
    "# Print the length of the city_data list to verify how many cities you have\n",
    "len(rando_city_datapull)"
   ]
  },
  {
   "cell_type": "markdown",
   "metadata": {},
   "source": [
    "## Add the weather data to a new DataFrame."
   ]
  },
  {
   "cell_type": "code",
   "execution_count": 10,
   "metadata": {},
   "outputs": [],
   "source": [
    "# Use the city_data list to create a new pandas DataFrame.\n",
    "rando_city_df = pd.DataFrame(rando_city_datapull)"
   ]
  },
  {
   "cell_type": "code",
   "execution_count": 11,
   "metadata": {},
   "outputs": [
    {
     "data": {
      "text/html": [
       "<div>\n",
       "<style scoped>\n",
       "    .dataframe tbody tr th:only-of-type {\n",
       "        vertical-align: middle;\n",
       "    }\n",
       "\n",
       "    .dataframe tbody tr th {\n",
       "        vertical-align: top;\n",
       "    }\n",
       "\n",
       "    .dataframe thead th {\n",
       "        text-align: right;\n",
       "    }\n",
       "</style>\n",
       "<table border=\"1\" class=\"dataframe\">\n",
       "  <thead>\n",
       "    <tr style=\"text-align: right;\">\n",
       "      <th></th>\n",
       "    </tr>\n",
       "  </thead>\n",
       "  <tbody>\n",
       "  </tbody>\n",
       "</table>\n",
       "</div>"
      ],
      "text/plain": [
       "Empty DataFrame\n",
       "Columns: []\n",
       "Index: []"
      ]
     },
     "execution_count": 11,
     "metadata": {},
     "output_type": "execute_result"
    }
   ],
   "source": [
    "# Display sample data\n",
    "rando_city_df.head(10)"
   ]
  },
  {
   "cell_type": "code",
   "execution_count": 12,
   "metadata": {},
   "outputs": [
    {
     "data": {
      "text/plain": [
       "Index([], dtype='object')"
      ]
     },
     "execution_count": 12,
     "metadata": {},
     "output_type": "execute_result"
    }
   ],
   "source": [
    "# Display the DataFrame's column names using the columns Pandas function\n",
    "rando_city_df.columns"
   ]
  },
  {
   "cell_type": "code",
   "execution_count": 13,
   "metadata": {},
   "outputs": [
    {
     "ename": "KeyError",
     "evalue": "\"None of [Index(['City', 'Country', 'Lat', 'Lng', 'Max Temp', 'Humidity', 'Cloudiness',\\n       'Wind Speed', 'Current Description'],\\n      dtype='object')] are in the [columns]\"",
     "output_type": "error",
     "traceback": [
      "\u001b[0;31m---------------------------------------------------------------------------\u001b[0m",
      "\u001b[0;31mKeyError\u001b[0m                                  Traceback (most recent call last)",
      "Input \u001b[0;32mIn [13]\u001b[0m, in \u001b[0;36m<cell line: 6>\u001b[0;34m()\u001b[0m\n\u001b[1;32m      3\u001b[0m new_column_order \u001b[38;5;241m=\u001b[39m [\u001b[38;5;124m\"\u001b[39m\u001b[38;5;124mCity\u001b[39m\u001b[38;5;124m\"\u001b[39m, \u001b[38;5;124m\"\u001b[39m\u001b[38;5;124mCountry\u001b[39m\u001b[38;5;124m\"\u001b[39m, \u001b[38;5;124m\"\u001b[39m\u001b[38;5;124mLat\u001b[39m\u001b[38;5;124m\"\u001b[39m, \u001b[38;5;124m\"\u001b[39m\u001b[38;5;124mLng\u001b[39m\u001b[38;5;124m\"\u001b[39m, \u001b[38;5;124m\"\u001b[39m\u001b[38;5;124mMax Temp\u001b[39m\u001b[38;5;124m\"\u001b[39m, \u001b[38;5;124m\"\u001b[39m\u001b[38;5;124mHumidity\u001b[39m\u001b[38;5;124m\"\u001b[39m, \u001b[38;5;124m\"\u001b[39m\u001b[38;5;124mCloudiness\u001b[39m\u001b[38;5;124m\"\u001b[39m, \u001b[38;5;124m\"\u001b[39m\u001b[38;5;124mWind Speed\u001b[39m\u001b[38;5;124m\"\u001b[39m, \u001b[38;5;124m\"\u001b[39m\u001b[38;5;124mCurrent Description\u001b[39m\u001b[38;5;124m\"\u001b[39m]\n\u001b[1;32m      5\u001b[0m \u001b[38;5;66;03m# Recreate the DataFrame by using the new column order\u001b[39;00m\n\u001b[0;32m----> 6\u001b[0m \u001b[43mrando_city_df\u001b[49m\u001b[43m[\u001b[49m\u001b[43mnew_column_order\u001b[49m\u001b[43m]\u001b[49m\n",
      "File \u001b[0;32m~/opt/anaconda3/lib/python3.9/site-packages/pandas/core/frame.py:3511\u001b[0m, in \u001b[0;36mDataFrame.__getitem__\u001b[0;34m(self, key)\u001b[0m\n\u001b[1;32m   3509\u001b[0m     \u001b[38;5;28;01mif\u001b[39;00m is_iterator(key):\n\u001b[1;32m   3510\u001b[0m         key \u001b[38;5;241m=\u001b[39m \u001b[38;5;28mlist\u001b[39m(key)\n\u001b[0;32m-> 3511\u001b[0m     indexer \u001b[38;5;241m=\u001b[39m \u001b[38;5;28;43mself\u001b[39;49m\u001b[38;5;241;43m.\u001b[39;49m\u001b[43mcolumns\u001b[49m\u001b[38;5;241;43m.\u001b[39;49m\u001b[43m_get_indexer_strict\u001b[49m\u001b[43m(\u001b[49m\u001b[43mkey\u001b[49m\u001b[43m,\u001b[49m\u001b[43m \u001b[49m\u001b[38;5;124;43m\"\u001b[39;49m\u001b[38;5;124;43mcolumns\u001b[39;49m\u001b[38;5;124;43m\"\u001b[39;49m\u001b[43m)\u001b[49m[\u001b[38;5;241m1\u001b[39m]\n\u001b[1;32m   3513\u001b[0m \u001b[38;5;66;03m# take() does not accept boolean indexers\u001b[39;00m\n\u001b[1;32m   3514\u001b[0m \u001b[38;5;28;01mif\u001b[39;00m \u001b[38;5;28mgetattr\u001b[39m(indexer, \u001b[38;5;124m\"\u001b[39m\u001b[38;5;124mdtype\u001b[39m\u001b[38;5;124m\"\u001b[39m, \u001b[38;5;28;01mNone\u001b[39;00m) \u001b[38;5;241m==\u001b[39m \u001b[38;5;28mbool\u001b[39m:\n",
      "File \u001b[0;32m~/opt/anaconda3/lib/python3.9/site-packages/pandas/core/indexes/base.py:5796\u001b[0m, in \u001b[0;36mIndex._get_indexer_strict\u001b[0;34m(self, key, axis_name)\u001b[0m\n\u001b[1;32m   5793\u001b[0m \u001b[38;5;28;01melse\u001b[39;00m:\n\u001b[1;32m   5794\u001b[0m     keyarr, indexer, new_indexer \u001b[38;5;241m=\u001b[39m \u001b[38;5;28mself\u001b[39m\u001b[38;5;241m.\u001b[39m_reindex_non_unique(keyarr)\n\u001b[0;32m-> 5796\u001b[0m \u001b[38;5;28;43mself\u001b[39;49m\u001b[38;5;241;43m.\u001b[39;49m\u001b[43m_raise_if_missing\u001b[49m\u001b[43m(\u001b[49m\u001b[43mkeyarr\u001b[49m\u001b[43m,\u001b[49m\u001b[43m \u001b[49m\u001b[43mindexer\u001b[49m\u001b[43m,\u001b[49m\u001b[43m \u001b[49m\u001b[43maxis_name\u001b[49m\u001b[43m)\u001b[49m\n\u001b[1;32m   5798\u001b[0m keyarr \u001b[38;5;241m=\u001b[39m \u001b[38;5;28mself\u001b[39m\u001b[38;5;241m.\u001b[39mtake(indexer)\n\u001b[1;32m   5799\u001b[0m \u001b[38;5;28;01mif\u001b[39;00m \u001b[38;5;28misinstance\u001b[39m(key, Index):\n\u001b[1;32m   5800\u001b[0m     \u001b[38;5;66;03m# GH 42790 - Preserve name from an Index\u001b[39;00m\n",
      "File \u001b[0;32m~/opt/anaconda3/lib/python3.9/site-packages/pandas/core/indexes/base.py:5856\u001b[0m, in \u001b[0;36mIndex._raise_if_missing\u001b[0;34m(self, key, indexer, axis_name)\u001b[0m\n\u001b[1;32m   5854\u001b[0m     \u001b[38;5;28;01mif\u001b[39;00m use_interval_msg:\n\u001b[1;32m   5855\u001b[0m         key \u001b[38;5;241m=\u001b[39m \u001b[38;5;28mlist\u001b[39m(key)\n\u001b[0;32m-> 5856\u001b[0m     \u001b[38;5;28;01mraise\u001b[39;00m \u001b[38;5;167;01mKeyError\u001b[39;00m(\u001b[38;5;124mf\u001b[39m\u001b[38;5;124m\"\u001b[39m\u001b[38;5;124mNone of [\u001b[39m\u001b[38;5;132;01m{\u001b[39;00mkey\u001b[38;5;132;01m}\u001b[39;00m\u001b[38;5;124m] are in the [\u001b[39m\u001b[38;5;132;01m{\u001b[39;00maxis_name\u001b[38;5;132;01m}\u001b[39;00m\u001b[38;5;124m]\u001b[39m\u001b[38;5;124m\"\u001b[39m)\n\u001b[1;32m   5858\u001b[0m not_found \u001b[38;5;241m=\u001b[39m \u001b[38;5;28mlist\u001b[39m(ensure_index(key)[missing_mask\u001b[38;5;241m.\u001b[39mnonzero()[\u001b[38;5;241m0\u001b[39m]]\u001b[38;5;241m.\u001b[39munique())\n\u001b[1;32m   5859\u001b[0m \u001b[38;5;28;01mraise\u001b[39;00m \u001b[38;5;167;01mKeyError\u001b[39;00m(\u001b[38;5;124mf\u001b[39m\u001b[38;5;124m\"\u001b[39m\u001b[38;5;132;01m{\u001b[39;00mnot_found\u001b[38;5;132;01m}\u001b[39;00m\u001b[38;5;124m not in index\u001b[39m\u001b[38;5;124m\"\u001b[39m)\n",
      "\u001b[0;31mKeyError\u001b[0m: \"None of [Index(['City', 'Country', 'Lat', 'Lng', 'Max Temp', 'Humidity', 'Cloudiness',\\n       'Wind Speed', 'Current Description'],\\n      dtype='object')] are in the [columns]\""
     ]
    }
   ],
   "source": [
    "# Create a list to reorder the column names as follows:\n",
    "# \"City\", \"Country\", \"Lat\", \"Lng\", \"Max Temp\", \"Humidity\",  \"Cloudiness\", \"Wind Speed\",  \"Current Description\"\n",
    "new_column_order = [\"City\", \"Country\", \"Lat\", \"Lng\", \"Max Temp\", \"Humidity\", \"Cloudiness\", \"Wind Speed\", \"Current Description\"]\n",
    "\n",
    "# Recreate the DataFrame by using the new column order\n",
    "rando_city_df[new_column_order]\n",
    "\n",
    "# Display sample data\n",
    "# YOUR CODE HERE"
   ]
  },
  {
   "cell_type": "code",
   "execution_count": null,
   "metadata": {},
   "outputs": [],
   "source": [
    "# Display the data types of each column by using the dtypes Pandas function\n",
    "# YOUR CODE HERE"
   ]
  },
  {
   "cell_type": "markdown",
   "metadata": {},
   "source": [
    "## Export the DataFrame as a CSV file, and save it as `WeatherPy_Database.csv` in the `Weather_Database` folder."
   ]
  },
  {
   "cell_type": "code",
   "execution_count": null,
   "metadata": {},
   "outputs": [],
   "source": [
    "# Set the output file name\n",
    "# YOUR CODE HERE\n",
    "\n",
    "# Export the city_data DataFrame into a CSV file\n",
    "# YOUR CODE HERE"
   ]
  },
  {
   "cell_type": "code",
   "execution_count": null,
   "metadata": {},
   "outputs": [],
   "source": []
  }
 ],
 "metadata": {
  "kernelspec": {
   "display_name": "Python 3 (ipykernel)",
   "language": "python",
   "name": "python3"
  },
  "language_info": {
   "codemirror_mode": {
    "name": "ipython",
    "version": 3
   },
   "file_extension": ".py",
   "mimetype": "text/x-python",
   "name": "python",
   "nbconvert_exporter": "python",
   "pygments_lexer": "ipython3",
   "version": "3.9.12"
  }
 },
 "nbformat": 4,
 "nbformat_minor": 4
}
