{
 "cells": [
  {
   "cell_type": "code",
   "execution_count": 1,
   "id": "7ec5b197",
   "metadata": {},
   "outputs": [],
   "source": [
    "# Import the random module.\n",
    "import random"
   ]
  },
  {
   "cell_type": "code",
   "execution_count": 2,
   "id": "07f3698c",
   "metadata": {},
   "outputs": [
    {
     "data": {
      "text/plain": [
       "-27"
      ]
     },
     "execution_count": 2,
     "metadata": {},
     "output_type": "execute_result"
    }
   ],
   "source": [
    "# The randint() Function\n",
    "random.randint(-90, 90)"
   ]
  },
  {
   "cell_type": "code",
   "execution_count": 3,
   "id": "796617ba",
   "metadata": {},
   "outputs": [
    {
     "data": {
      "text/plain": [
       "0.2170404916389248"
      ]
     },
     "execution_count": 3,
     "metadata": {},
     "output_type": "execute_result"
    }
   ],
   "source": [
    "# The random() Function\n",
    "random.random()"
   ]
  },
  {
   "cell_type": "code",
   "execution_count": 4,
   "id": "e880d36d",
   "metadata": {},
   "outputs": [
    {
     "data": {
      "text/plain": [
       "-64.911206979355"
      ]
     },
     "execution_count": 4,
     "metadata": {},
     "output_type": "execute_result"
    }
   ],
   "source": [
    "# The random() Function (continued)\n",
    "random_number = random.randint(-90, 89) + random.random()\n",
    "random_number"
   ]
  },
  {
   "cell_type": "code",
   "execution_count": 5,
   "id": "6c09c722",
   "metadata": {},
   "outputs": [
    {
     "data": {
      "text/plain": [
       "[-67.68770170271638,\n",
       " 35.02075928862595,\n",
       " 16.321919221186477,\n",
       " -72.59930431389154,\n",
       " -21.87462918881821,\n",
       " 63.62065578299202,\n",
       " 9.818144905470987,\n",
       " 4.895754172512131,\n",
       " -71.31894880275166,\n",
       " 68.30122272498384]"
      ]
     },
     "execution_count": 5,
     "metadata": {},
     "output_type": "execute_result"
    }
   ],
   "source": [
    "# The random() Function\n",
    "x = 1\n",
    "latitudes = []\n",
    "while x < 11:\n",
    "    random_lat = random.randint(-90, 89) + random.random()\n",
    "    latitudes.append(random_lat)\n",
    "    x += 1\n",
    "latitudes"
   ]
  },
  {
   "cell_type": "code",
   "execution_count": 6,
   "id": "328042c2",
   "metadata": {},
   "outputs": [
    {
     "data": {
      "text/plain": [
       "-31"
      ]
     },
     "execution_count": 6,
     "metadata": {},
     "output_type": "execute_result"
    }
   ],
   "source": [
    "# The randrange() Function \n",
    "# The range between two given values, the step parameter is the difference betwen each number in that squence. \n",
    "# IF you dont don't the step parameter, the output will be that number with an increment of 1 (one is the default integer). \n",
    "random.randrange(-90, 90, step = 1)"
   ]
  },
  {
   "cell_type": "code",
   "execution_count": 7,
   "id": "1a3f0c8d",
   "metadata": {},
   "outputs": [],
   "source": [
    "# The NumPy and random Modules # \n",
    "# Import the NumPy module.\n",
    "import numpy as np"
   ]
  },
  {
   "cell_type": "code",
   "execution_count": 8,
   "id": "43f1266a",
   "metadata": {},
   "outputs": [
    {
     "data": {
      "text/plain": [
       "12.16191550774009"
      ]
     },
     "execution_count": 8,
     "metadata": {},
     "output_type": "execute_result"
    }
   ],
   "source": [
    "# Generates a floating-point decimal number between -90.000 and 90.000. \n",
    "# - Adding zeros is placeholders in optional\n",
    "np.random.uniform(-90.000, 90.000)"
   ]
  },
  {
   "cell_type": "code",
   "execution_count": 9,
   "id": "d0586e1a",
   "metadata": {},
   "outputs": [
    {
     "data": {
      "text/plain": [
       "42.40636395451119"
      ]
     },
     "execution_count": 9,
     "metadata": {},
     "output_type": "execute_result"
    }
   ],
   "source": [
    "# # Generates a floating-point decimal number between -90.000 and 90.000. (another option)\n",
    "np.random.uniform(low = -90, high = 90)"
   ]
  },
  {
   "cell_type": "code",
   "execution_count": 10,
   "id": "54830047",
   "metadata": {},
   "outputs": [
    {
     "data": {
      "text/plain": [
       "array([ 67.67798786, -25.4998929 , -86.19294483,  79.53539211,\n",
       "       -20.71205569,  80.74955281, -24.9685493 ,   0.97360296,\n",
       "        18.4412713 ,  68.02828475, -30.52409661,  27.9672316 ,\n",
       "       -89.28010341,  -3.56231019, -28.73932504, -74.18201871,\n",
       "        39.29683037, -53.89914508, -79.4910957 ,  35.39993383,\n",
       "       -83.49600851,  54.16429085, -39.08124877, -65.86750586,\n",
       "       -85.27498794, -40.94228995,  66.87732386, -45.31388701,\n",
       "        -2.03505931,  59.32513438, -45.79777133, -22.31769421,\n",
       "       -85.6250296 , -56.20078505,  65.93804611, -41.73540392,\n",
       "       -75.00278384,  -1.52015205, -26.53443813, -70.61899867,\n",
       "        21.61904274,  17.9825809 , -31.02246402,  -7.95036026,\n",
       "        86.09796531, -70.54505984,  13.18892231,  73.84768035,\n",
       "        23.11305695,  87.370272  ])"
      ]
     },
     "execution_count": 10,
     "metadata": {},
     "output_type": "execute_result"
    }
   ],
   "source": [
    "# Using the size parameter, as a whole number, to list the numbers of random selections.\n",
    "np.random.uniform(-90.000, 90.000, size = 50)"
   ]
  },
  {
   "cell_type": "code",
   "execution_count": 11,
   "id": "969ae41c",
   "metadata": {},
   "outputs": [],
   "source": [
    "# Import timeit.\n",
    "# we use this function/dependency to calculate how long it will take to run a piece of code or function.\n",
    "import timeit"
   ]
  },
  {
   "cell_type": "code",
   "execution_count": 12,
   "id": "6550d989",
   "metadata": {},
   "outputs": [
    {
     "name": "stdout",
     "output_type": "stream",
     "text": [
      "14.6 µs ± 408 ns per loop (mean ± std. dev. of 7 runs, 100,000 loops each)\n"
     ]
    }
   ],
   "source": [
    "# Increasing the parameter size by 1500.\n",
    "%timeit np.random.uniform(-90.000, 90.000, size = 1500) "
   ]
  },
  {
   "cell_type": "code",
   "execution_count": 13,
   "id": "651ebf65",
   "metadata": {},
   "outputs": [
    {
     "name": "stdout",
     "output_type": "stream",
     "text": [
      "1.55 ms ± 33.6 µs per loop (mean ± std. dev. of 7 runs, 1,000 loops each)\n"
     ]
    }
   ],
   "source": [
    "# Running \"random_lat generator\" with \"%timeit\" to run in 100 times faster; when it comes to bigger quantities. \n",
    "def latitudes(size):\n",
    "    latitudes = []\n",
    "    x = 0\n",
    "    while x < (size):\n",
    "        random_lat = random.randint(-90, 90) + random.random()\n",
    "        latitudes.append(random_lat)\n",
    "        x += 1\n",
    "    return latitudes\n",
    "# Call the function with 1500.\n",
    "%timeit latitudes(1500)"
   ]
  },
  {
   "cell_type": "code",
   "execution_count": 28,
   "id": "fe665386",
   "metadata": {},
   "outputs": [
    {
     "name": "stdout",
     "output_type": "stream",
     "text": [
      "24.8 ms ± 541 µs per loop (mean ± std. dev. of 7 runs, 10 loops each)\n"
     ]
    }
   ],
   "source": [
    "# SKILL DRILL #\n",
    "# Refactor the code for the while loop with the %timeit magic command and write a for loop that will generate the 1,500 latitudes.\n",
    "def latitudes(size = 1500):\n",
    "    latitudes = []\n",
    "    x = 0\n",
    "    while x < (size):\n",
    "        random_lat = np.random.uniform(-90.000, 90.000, size = 1500)\n",
    "        latitudes.append(random_lat)\n",
    "        x += 1\n",
    "    return latitudes\n",
    "# Call the function with 1500.\n",
    "%timeit latitudes(1500)"
   ]
  },
  {
   "cell_type": "code",
   "execution_count": null,
   "id": "64ec8f88",
   "metadata": {},
   "outputs": [],
   "source": []
  }
 ],
 "metadata": {
  "kernelspec": {
   "display_name": "PythonData",
   "language": "python",
   "name": "pythondata"
  },
  "language_info": {
   "codemirror_mode": {
    "name": "ipython",
    "version": 3
   },
   "file_extension": ".py",
   "mimetype": "text/x-python",
   "name": "python",
   "nbconvert_exporter": "python",
   "pygments_lexer": "ipython3",
   "version": "3.9.12"
  }
 },
 "nbformat": 4,
 "nbformat_minor": 5
}
